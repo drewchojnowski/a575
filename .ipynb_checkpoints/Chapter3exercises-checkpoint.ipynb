{
 "cells": [
  {
   "cell_type": "markdown",
   "metadata": {},
   "source": [
    "Exercise 1: move the last line of this program to the top, so the functions call appears before the definitions. Run the program and see what error message you get."
   ]
  },
  {
   "cell_type": "code",
   "execution_count": 5,
   "metadata": {
    "collapsed": false
   },
   "outputs": [],
   "source": [
    "def temp():\n",
    "    def print_lyrics():\n",
    "        print \"I'm a lumberjack, and I'm okay.\"\n",
    "        print \"I sleep all night and I work all day.\"\n",
    "        \n",
    "    def repeat_lyrics():\n",
    "        print_lyrics()\n",
    "        print_lyrics()\n",
    "        \n",
    "    repeat_lyrics()\n",
    "    "
   ]
  },
  {
   "cell_type": "code",
   "execution_count": 6,
   "metadata": {
    "collapsed": false
   },
   "outputs": [
    {
     "name": "stdout",
     "output_type": "stream",
     "text": [
      "I'm a lumberjack, and I'm okay.\n",
      "I sleep all night and I work all day.\n",
      "I'm a lumberjack, and I'm okay.\n",
      "I sleep all night and I work all day.\n"
     ]
    }
   ],
   "source": [
    "temp()"
   ]
  },
  {
   "cell_type": "code",
   "execution_count": 7,
   "metadata": {
    "collapsed": true
   },
   "outputs": [],
   "source": [
    "def temp():\n",
    "    repeat_lyrics()\n",
    "    \n",
    "    def print_lyrics():\n",
    "        print \"I'm a lumberjack, and I'm okay.\"\n",
    "        print \"I sleep all night and I work all day.\"\n",
    "        \n",
    "    def repeat_lyrics():\n",
    "        print_lyrics()\n",
    "        print_lyrics()\n",
    "        "
   ]
  },
  {
   "cell_type": "code",
   "execution_count": 8,
   "metadata": {
    "collapsed": false
   },
   "outputs": [
    {
     "ename": "UnboundLocalError",
     "evalue": "local variable 'repeat_lyrics' referenced before assignment",
     "output_type": "error",
     "traceback": [
      "\u001b[1;31m---------------------------------------------------------------------------\u001b[0m",
      "\u001b[1;31mUnboundLocalError\u001b[0m                         Traceback (most recent call last)",
      "\u001b[1;32m<ipython-input-8-9a3c6ba04cf8>\u001b[0m in \u001b[0;36m<module>\u001b[1;34m()\u001b[0m\n\u001b[1;32m----> 1\u001b[1;33m \u001b[0mtemp\u001b[0m\u001b[1;33m(\u001b[0m\u001b[1;33m)\u001b[0m\u001b[1;33m\u001b[0m\u001b[0m\n\u001b[0m",
      "\u001b[1;32m<ipython-input-7-affdbbe25363>\u001b[0m in \u001b[0;36mtemp\u001b[1;34m()\u001b[0m\n\u001b[0;32m      1\u001b[0m \u001b[1;32mdef\u001b[0m \u001b[0mtemp\u001b[0m\u001b[1;33m(\u001b[0m\u001b[1;33m)\u001b[0m\u001b[1;33m:\u001b[0m\u001b[1;33m\u001b[0m\u001b[0m\n\u001b[1;32m----> 2\u001b[1;33m     \u001b[0mrepeat_lyrics\u001b[0m\u001b[1;33m(\u001b[0m\u001b[1;33m)\u001b[0m\u001b[1;33m\u001b[0m\u001b[0m\n\u001b[0m\u001b[0;32m      3\u001b[0m \u001b[1;33m\u001b[0m\u001b[0m\n\u001b[0;32m      4\u001b[0m     \u001b[1;32mdef\u001b[0m \u001b[0mprint_lyrics\u001b[0m\u001b[1;33m(\u001b[0m\u001b[1;33m)\u001b[0m\u001b[1;33m:\u001b[0m\u001b[1;33m\u001b[0m\u001b[0m\n\u001b[0;32m      5\u001b[0m         \u001b[1;32mprint\u001b[0m \u001b[1;34m\"I'm a lumberjack, and I'm okay.\"\u001b[0m\u001b[1;33m\u001b[0m\u001b[0m\n",
      "\u001b[1;31mUnboundLocalError\u001b[0m: local variable 'repeat_lyrics' referenced before assignment"
     ]
    }
   ],
   "source": [
    "temp()"
   ]
  },
  {
   "cell_type": "markdown",
   "metadata": {},
   "source": [
    "The error message notifies me that I called \"repeat_lyrics\" before defining it."
   ]
  },
  {
   "cell_type": "markdown",
   "metadata": {},
   "source": [
    "Exercise 2: Move the function call back to the bottom and move the definition of print_lyrics after the definition of repeat_lyrics. What happens when you run this program?"
   ]
  },
  {
   "cell_type": "code",
   "execution_count": 11,
   "metadata": {
    "collapsed": true
   },
   "outputs": [],
   "source": [
    "def temp():\n",
    "       \n",
    "    def repeat_lyrics():\n",
    "        print_lyrics()\n",
    "        print_lyrics()\n",
    "        \n",
    "    def print_lyrics():\n",
    "        print \"I'm a lumberjack, and I'm okay.\"\n",
    "        print \"I sleep all night and I work all day.\"\n",
    "        \n",
    "    repeat_lyrics()"
   ]
  },
  {
   "cell_type": "code",
   "execution_count": 12,
   "metadata": {
    "collapsed": false
   },
   "outputs": [
    {
     "name": "stdout",
     "output_type": "stream",
     "text": [
      "I'm a lumberjack, and I'm okay.\n",
      "I sleep all night and I work all day.\n",
      "I'm a lumberjack, and I'm okay.\n",
      "I sleep all night and I work all day.\n"
     ]
    }
   ],
   "source": [
    "temp()"
   ]
  },
  {
   "cell_type": "markdown",
   "metadata": {},
   "source": [
    "I'm somewhat suprised the program ran successfully."
   ]
  },
  {
   "cell_type": "markdown",
   "metadata": {},
   "source": [
    "Exercise 3  \n",
    "\n",
    "Python provides a built-in function called len that returns the length of a string, so the value of len('allen') is 5.\n",
    "\n",
    "Write a function named right_justify that takes a string named s as a parameter and prints the string with enough leading spaces so that the last letter of the string is in column 70 of the display."
   ]
  },
  {
   "cell_type": "code",
   "execution_count": 13,
   "metadata": {
    "collapsed": true
   },
   "outputs": [],
   "source": [
    "def right_justify(s):\n",
    "    print ' '*(70-len(s))+s"
   ]
  },
  {
   "cell_type": "code",
   "execution_count": 14,
   "metadata": {
    "collapsed": false
   },
   "outputs": [
    {
     "name": "stdout",
     "output_type": "stream",
     "text": [
      "                                                                  crap\n"
     ]
    }
   ],
   "source": [
    "right_justify('crap')"
   ]
  },
  {
   "cell_type": "code",
   "execution_count": 15,
   "metadata": {
    "collapsed": false
   },
   "outputs": [
    {
     "name": "stdout",
     "output_type": "stream",
     "text": [
      "                                                     Tyrannosaurus Rix\n"
     ]
    }
   ],
   "source": [
    "right_justify('Tyrannosaurus Rix')"
   ]
  },
  {
   "cell_type": "code",
   "execution_count": 16,
   "metadata": {
    "collapsed": false
   },
   "outputs": [
    {
     "name": "stdout",
     "output_type": "stream",
     "text": [
      "                                     Look at me programming in Python!\n"
     ]
    }
   ],
   "source": [
    "right_justify('Look at me programming in Python!')"
   ]
  },
  {
   "cell_type": "markdown",
   "metadata": {},
   "source": [
    "Exercise 4  \n",
    "\n",
    "A function object is a value you can assign to a variable or pass as an argument. For example, do_twice is a function that takes a function object as an argument and calls it twice:\n",
    "\n",
    "def do_twice(f):\n",
    "    f()\n",
    "    f()\n",
    "\n",
    "Here’s an example that uses do_twice to call a function named print_spam twice.\n",
    "\n",
    "def print_spam():\n",
    "    print 'spam'\n",
    "\n",
    "do_twice(print_spam)\n",
    "\n",
    "    Type this example into a script and test it.\n",
    "    Modify do_twice so that it takes two arguments, a function object and a value, and calls the function twice, passing the value as an argument.\n",
    "    Write a more general version of print_spam, called print_twice, that takes a string as a parameter and prints it twice.\n",
    "    Use the modified version of do_twice to call print_twice twice, passing 'spam' as an argument.\n",
    "    Define a new function called do_four that takes a function object and a value and calls the function four times, passing the value as a parameter. There should be only two statements in the body of this function, not four."
   ]
  },
  {
   "cell_type": "code",
   "execution_count": 17,
   "metadata": {
    "collapsed": true
   },
   "outputs": [],
   "source": [
    "def temp():\n",
    "    def do_twice(f):\n",
    "        f()\n",
    "        f()\n",
    "        \n",
    "    def print_spam():\n",
    "        print 'spam'\n",
    "        \n",
    "    do_twice(print_spam)\n",
    "    "
   ]
  },
  {
   "cell_type": "code",
   "execution_count": 18,
   "metadata": {
    "collapsed": false
   },
   "outputs": [
    {
     "name": "stdout",
     "output_type": "stream",
     "text": [
      "spam\n",
      "spam\n"
     ]
    }
   ],
   "source": [
    "temp()"
   ]
  },
  {
   "cell_type": "code",
   "execution_count": 27,
   "metadata": {
    "collapsed": true
   },
   "outputs": [],
   "source": [
    "def temp():\n",
    "    def do_twice(f,val):\n",
    "        f(val)\n",
    "        f(val)\n",
    "        \n",
    "    def print_twice(val):\n",
    "        print val\n",
    "        \n",
    "    do_twice(print_twice,'spam')\n",
    "    "
   ]
  },
  {
   "cell_type": "code",
   "execution_count": 28,
   "metadata": {
    "collapsed": false
   },
   "outputs": [
    {
     "name": "stdout",
     "output_type": "stream",
     "text": [
      "spam\n",
      "spam\n"
     ]
    }
   ],
   "source": [
    "temp()"
   ]
  },
  {
   "cell_type": "code",
   "execution_count": 29,
   "metadata": {
    "collapsed": true
   },
   "outputs": [],
   "source": [
    "def temp():\n",
    "    def do_twice(f,val):\n",
    "        f(val)\n",
    "        f(val)\n",
    "        \n",
    "    def print_twice(val):\n",
    "        print val\n",
    "        \n",
    "    #do_twice(print_twice,'spam')\n",
    "    \n",
    "    def do_four(f,val):\n",
    "        do_twice(print_twice,val)\n",
    "        do_twice(print_twice,val)\n",
    "        \n",
    "    do_four(print_twice,'spam')\n",
    "        "
   ]
  },
  {
   "cell_type": "code",
   "execution_count": 30,
   "metadata": {
    "collapsed": false
   },
   "outputs": [
    {
     "name": "stdout",
     "output_type": "stream",
     "text": [
      "spam\n",
      "spam\n",
      "spam\n",
      "spam\n"
     ]
    }
   ],
   "source": [
    "temp()"
   ]
  },
  {
   "cell_type": "code",
   "execution_count": 32,
   "metadata": {
    "collapsed": true
   },
   "outputs": [],
   "source": [
    "def draw_grid():\n",
    "    print '+'+'----+'*2\n",
    "    for x in range(0,3):\n",
    "        print '|'+'    |'*2\n",
    "    print '+'+'----+'*2\n",
    "    for x in range(0,3):\n",
    "        print '|'+'    |'*2\n",
    "    print '+'+'----+'*2\n",
    "\n",
    "    "
   ]
  },
  {
   "cell_type": "code",
   "execution_count": 33,
   "metadata": {
    "collapsed": false
   },
   "outputs": [
    {
     "name": "stdout",
     "output_type": "stream",
     "text": [
      "+----+----+\n",
      "|    |    |\n",
      "|    |    |\n",
      "|    |    |\n",
      "+----+----+\n",
      "|    |    |\n",
      "|    |    |\n",
      "|    |    |\n",
      "+----+----+\n"
     ]
    }
   ],
   "source": [
    "draw_grid()"
   ]
  },
  {
   "cell_type": "code",
   "execution_count": 34,
   "metadata": {
    "collapsed": true
   },
   "outputs": [],
   "source": [
    "def draw_grid():\n",
    "    print '+'+'----+'*2\n",
    "    for x in range(0,4):\n",
    "        print '|'+'    |'*2\n",
    "    print '+'+'----+'*2\n",
    "    for x in range(0,4):\n",
    "        print '|'+'    |'*2\n",
    "    print '+'+'----+'*2\n"
   ]
  },
  {
   "cell_type": "code",
   "execution_count": 35,
   "metadata": {
    "collapsed": false
   },
   "outputs": [
    {
     "name": "stdout",
     "output_type": "stream",
     "text": [
      "+----+----+\n",
      "|    |    |\n",
      "|    |    |\n",
      "|    |    |\n",
      "|    |    |\n",
      "+----+----+\n",
      "|    |    |\n",
      "|    |    |\n",
      "|    |    |\n",
      "|    |    |\n",
      "+----+----+\n"
     ]
    }
   ],
   "source": [
    "draw_grid()"
   ]
  },
  {
   "cell_type": "markdown",
   "metadata": {},
   "source": [
    "Ok, well that's confusing"
   ]
  },
  {
   "cell_type": "markdown",
   "metadata": {},
   "source": [
    "Why isn't it range(0,3)?"
   ]
  },
  {
   "cell_type": "code",
   "execution_count": 36,
   "metadata": {
    "collapsed": true
   },
   "outputs": [],
   "source": [
    "def draw_grid():\n",
    "    print '+'+' - - - - +'*2\n",
    "    for x in range(0,4):\n",
    "        print '|'+'    |'*2\n",
    "    print '+'+' - - - - +'*2\n",
    "    for x in range(0,4):\n",
    "        print '|'+'    |'*2\n",
    "    print '+'+' - - - - +'*2"
   ]
  },
  {
   "cell_type": "code",
   "execution_count": 37,
   "metadata": {
    "collapsed": false
   },
   "outputs": [
    {
     "name": "stdout",
     "output_type": "stream",
     "text": [
      "+ - - - - + - - - - +\n",
      "|    |    |\n",
      "|    |    |\n",
      "|    |    |\n",
      "|    |    |\n",
      "+ - - - - + - - - - +\n",
      "|    |    |\n",
      "|    |    |\n",
      "|    |    |\n",
      "|    |    |\n",
      "+ - - - - + - - - - +\n"
     ]
    }
   ],
   "source": [
    "draw_grid()"
   ]
  },
  {
   "cell_type": "code",
   "execution_count": 38,
   "metadata": {
    "collapsed": true
   },
   "outputs": [],
   "source": [
    "def draw_grid():\n",
    "    print '+'+' - - - - +'*2\n",
    "    for x in range(0,4):\n",
    "        print '|'+'      |'*2\n",
    "    print '+'+' - - - - +'*2\n",
    "    for x in range(0,4):\n",
    "        print '|'+'      |'*2\n",
    "    print '+'+' - - - - +'*2"
   ]
  },
  {
   "cell_type": "code",
   "execution_count": 39,
   "metadata": {
    "collapsed": false
   },
   "outputs": [
    {
     "name": "stdout",
     "output_type": "stream",
     "text": [
      "+ - - - - + - - - - +\n",
      "|      |      |\n",
      "|      |      |\n",
      "|      |      |\n",
      "|      |      |\n",
      "+ - - - - + - - - - +\n",
      "|      |      |\n",
      "|      |      |\n",
      "|      |      |\n",
      "|      |      |\n",
      "+ - - - - + - - - - +\n"
     ]
    }
   ],
   "source": [
    "draw_grid()"
   ]
  },
  {
   "cell_type": "code",
   "execution_count": 40,
   "metadata": {
    "collapsed": true
   },
   "outputs": [],
   "source": [
    "def draw_grid():\n",
    "    print '+'+' - - - - +'*2\n",
    "    for x in range(0,4):\n",
    "        print '|'+'        |'*2\n",
    "    print '+'+' - - - - +'*2\n",
    "    for x in range(0,4):\n",
    "        print '|'+'        |'*2\n",
    "    print '+'+' - - - - +'*2"
   ]
  },
  {
   "cell_type": "code",
   "execution_count": 41,
   "metadata": {
    "collapsed": false
   },
   "outputs": [
    {
     "name": "stdout",
     "output_type": "stream",
     "text": [
      "+ - - - - + - - - - +\n",
      "|        |        |\n",
      "|        |        |\n",
      "|        |        |\n",
      "|        |        |\n",
      "+ - - - - + - - - - +\n",
      "|        |        |\n",
      "|        |        |\n",
      "|        |        |\n",
      "|        |        |\n",
      "+ - - - - + - - - - +\n"
     ]
    }
   ],
   "source": [
    "draw_grid()"
   ]
  },
  {
   "cell_type": "code",
   "execution_count": 42,
   "metadata": {
    "collapsed": true
   },
   "outputs": [],
   "source": [
    "def draw_grid():\n",
    "    print '+'+' - - - - +'*2\n",
    "    for x in range(0,4):\n",
    "        print '|'+'         |'*2\n",
    "    print '+'+' - - - - +'*2\n",
    "    for x in range(0,4):\n",
    "        print '|'+'         |'*2\n",
    "    print '+'+' - - - - +'*2"
   ]
  },
  {
   "cell_type": "code",
   "execution_count": 43,
   "metadata": {
    "collapsed": false
   },
   "outputs": [
    {
     "name": "stdout",
     "output_type": "stream",
     "text": [
      "+ - - - - + - - - - +\n",
      "|         |         |\n",
      "|         |         |\n",
      "|         |         |\n",
      "|         |         |\n",
      "+ - - - - + - - - - +\n",
      "|         |         |\n",
      "|         |         |\n",
      "|         |         |\n",
      "|         |         |\n",
      "+ - - - - + - - - - +\n"
     ]
    }
   ],
   "source": [
    "draw_grid()"
   ]
  },
  {
   "cell_type": "markdown",
   "metadata": {},
   "source": [
    "Now it looks like the example in ThinkPython."
   ]
  },
  {
   "cell_type": "code",
   "execution_count": 44,
   "metadata": {
    "collapsed": true
   },
   "outputs": [],
   "source": [
    "def draw_square_grid(nrows):\n",
    "    print '+'+' - - - - +'*nrows\n",
    "    for i in range(0,nrows):\n",
    "        print '|'+'         |'*nrows\n",
    "        print '+'+' - - - - +'*nrows\n"
   ]
  },
  {
   "cell_type": "code",
   "execution_count": 45,
   "metadata": {
    "collapsed": false
   },
   "outputs": [
    {
     "name": "stdout",
     "output_type": "stream",
     "text": [
      "+ - - - - + - - - - + - - - - + - - - - +\n",
      "|         |         |         |         |\n",
      "+ - - - - + - - - - + - - - - + - - - - +\n",
      "|         |         |         |         |\n",
      "+ - - - - + - - - - + - - - - + - - - - +\n",
      "|         |         |         |         |\n",
      "+ - - - - + - - - - + - - - - + - - - - +\n",
      "|         |         |         |         |\n",
      "+ - - - - + - - - - + - - - - + - - - - +\n"
     ]
    }
   ],
   "source": [
    "draw_square_grid(4)"
   ]
  },
  {
   "cell_type": "code",
   "execution_count": 46,
   "metadata": {
    "collapsed": true
   },
   "outputs": [],
   "source": [
    "def draw_square_grid(nrows):\n",
    "    print '+'+' - - - - +'*nrows\n",
    "    for i in range(0,nrows):\n",
    "        for j in range(0,nrows):\n",
    "            print '|'+'         |'*nrows\n",
    "        print '+'+' - - - - +'*nrows\n",
    "        "
   ]
  },
  {
   "cell_type": "code",
   "execution_count": 47,
   "metadata": {
    "collapsed": false
   },
   "outputs": [
    {
     "name": "stdout",
     "output_type": "stream",
     "text": [
      "+ - - - - + - - - - + - - - - + - - - - +\n",
      "|         |         |         |         |\n",
      "|         |         |         |         |\n",
      "|         |         |         |         |\n",
      "|         |         |         |         |\n",
      "+ - - - - + - - - - + - - - - + - - - - +\n",
      "|         |         |         |         |\n",
      "|         |         |         |         |\n",
      "|         |         |         |         |\n",
      "|         |         |         |         |\n",
      "+ - - - - + - - - - + - - - - + - - - - +\n",
      "|         |         |         |         |\n",
      "|         |         |         |         |\n",
      "|         |         |         |         |\n",
      "|         |         |         |         |\n",
      "+ - - - - + - - - - + - - - - + - - - - +\n",
      "|         |         |         |         |\n",
      "|         |         |         |         |\n",
      "|         |         |         |         |\n",
      "|         |         |         |         |\n",
      "+ - - - - + - - - - + - - - - + - - - - +\n"
     ]
    }
   ],
   "source": [
    "draw_square_grid(4)"
   ]
  },
  {
   "cell_type": "code",
   "execution_count": 48,
   "metadata": {
    "collapsed": false
   },
   "outputs": [
    {
     "name": "stdout",
     "output_type": "stream",
     "text": [
      "+ - - - - + - - - - + - - - - + - - - - + - - - - +\n",
      "|         |         |         |         |         |\n",
      "|         |         |         |         |         |\n",
      "|         |         |         |         |         |\n",
      "|         |         |         |         |         |\n",
      "|         |         |         |         |         |\n",
      "+ - - - - + - - - - + - - - - + - - - - + - - - - +\n",
      "|         |         |         |         |         |\n",
      "|         |         |         |         |         |\n",
      "|         |         |         |         |         |\n",
      "|         |         |         |         |         |\n",
      "|         |         |         |         |         |\n",
      "+ - - - - + - - - - + - - - - + - - - - + - - - - +\n",
      "|         |         |         |         |         |\n",
      "|         |         |         |         |         |\n",
      "|         |         |         |         |         |\n",
      "|         |         |         |         |         |\n",
      "|         |         |         |         |         |\n",
      "+ - - - - + - - - - + - - - - + - - - - + - - - - +\n",
      "|         |         |         |         |         |\n",
      "|         |         |         |         |         |\n",
      "|         |         |         |         |         |\n",
      "|         |         |         |         |         |\n",
      "|         |         |         |         |         |\n",
      "+ - - - - + - - - - + - - - - + - - - - + - - - - +\n",
      "|         |         |         |         |         |\n",
      "|         |         |         |         |         |\n",
      "|         |         |         |         |         |\n",
      "|         |         |         |         |         |\n",
      "|         |         |         |         |         |\n",
      "+ - - - - + - - - - + - - - - + - - - - + - - - - +\n"
     ]
    }
   ],
   "source": [
    "draw_square_grid(5)"
   ]
  },
  {
   "cell_type": "code",
   "execution_count": null,
   "metadata": {
    "collapsed": true
   },
   "outputs": [],
   "source": []
  }
 ],
 "metadata": {
  "kernelspec": {
   "display_name": "Python 2",
   "language": "python",
   "name": "python2"
  },
  "language_info": {
   "codemirror_mode": {
    "name": "ipython",
    "version": 2
   },
   "file_extension": ".py",
   "mimetype": "text/x-python",
   "name": "python",
   "nbconvert_exporter": "python",
   "pygments_lexer": "ipython2",
   "version": "2.7.10"
  }
 },
 "nbformat": 4,
 "nbformat_minor": 0
}
