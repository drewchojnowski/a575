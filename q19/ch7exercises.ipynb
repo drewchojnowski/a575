{
 "metadata": {
  "name": ""
 },
 "nbformat": 3,
 "nbformat_minor": 0,
 "worksheets": [
  {
   "cells": [
    {
     "cell_type": "markdown",
     "metadata": {},
     "source": [
      "Exercise 1\n",
      "\n",
      "Rewrite the function print_n from Section 5.8 using iteration instead of recursion."
     ]
    },
    {
     "cell_type": "code",
     "collapsed": false,
     "input": [
      "def print_n(s, n):\n",
      "    if n <= 0:\n",
      "        return\n",
      "    print s\n",
      "    print_n(s, n-1)"
     ],
     "language": "python",
     "metadata": {},
     "outputs": [],
     "prompt_number": 1
    },
    {
     "cell_type": "code",
     "collapsed": false,
     "input": [
      "print_n(2,1)"
     ],
     "language": "python",
     "metadata": {},
     "outputs": [
      {
       "output_type": "stream",
       "stream": "stdout",
       "text": [
        "2\n"
       ]
      }
     ],
     "prompt_number": 2
    },
    {
     "cell_type": "code",
     "collapsed": false,
     "input": [
      "print_n(5,5)"
     ],
     "language": "python",
     "metadata": {},
     "outputs": [
      {
       "output_type": "stream",
       "stream": "stdout",
       "text": [
        "5\n",
        "5\n",
        "5\n",
        "5\n",
        "5\n"
       ]
      }
     ],
     "prompt_number": 3
    },
    {
     "cell_type": "code",
     "collapsed": false,
     "input": [
      "def print_n(s, n):\n",
      "    while n >= 0:\n",
      "        print s\n",
      "        n=n-1"
     ],
     "language": "python",
     "metadata": {},
     "outputs": [],
     "prompt_number": 4
    },
    {
     "cell_type": "code",
     "collapsed": false,
     "input": [
      "print_n(5,5)"
     ],
     "language": "python",
     "metadata": {},
     "outputs": [
      {
       "output_type": "stream",
       "stream": "stdout",
       "text": [
        "5\n",
        "5\n",
        "5\n",
        "5\n",
        "5\n",
        "5\n"
       ]
      }
     ],
     "prompt_number": 5
    },
    {
     "cell_type": "markdown",
     "metadata": {},
     "source": [
      "That's one too many 5s. Want five 5s."
     ]
    },
    {
     "cell_type": "code",
     "collapsed": false,
     "input": [
      "def print_n(s, n):\n",
      "    while n > 0:\n",
      "        print s\n",
      "        n=n-1"
     ],
     "language": "python",
     "metadata": {},
     "outputs": [],
     "prompt_number": 6
    },
    {
     "cell_type": "code",
     "collapsed": false,
     "input": [
      "print_n(5,5)"
     ],
     "language": "python",
     "metadata": {},
     "outputs": [
      {
       "output_type": "stream",
       "stream": "stdout",
       "text": [
        "5\n",
        "5\n",
        "5\n",
        "5\n",
        "5\n"
       ]
      }
     ],
     "prompt_number": 7
    },
    {
     "cell_type": "code",
     "collapsed": false,
     "input": [
      "print_n(2,1)"
     ],
     "language": "python",
     "metadata": {},
     "outputs": [
      {
       "output_type": "stream",
       "stream": "stdout",
       "text": [
        "2\n"
       ]
      }
     ],
     "prompt_number": 8
    },
    {
     "cell_type": "markdown",
     "metadata": {},
     "source": [
      "That's better."
     ]
    },
    {
     "cell_type": "markdown",
     "metadata": {},
     "source": [
      "Exercise 2  \n",
      "\n",
      "Encapsulate this loop in a function called square_root that takes a as a parameter, chooses a reasonable value of x, and returns an estimate of the square root of a. "
     ]
    },
    {
     "cell_type": "code",
     "collapsed": false,
     "input": [
      "def square_root(a):\n",
      "    x=a/5.\n",
      "    while True:\n",
      "        print x\n",
      "        y = (x + a/x) / 2\n",
      "        if y == x:\n",
      "            break\n",
      "        x=y"
     ],
     "language": "python",
     "metadata": {},
     "outputs": [],
     "prompt_number": 9
    },
    {
     "cell_type": "code",
     "collapsed": false,
     "input": [
      "square_root(4)"
     ],
     "language": "python",
     "metadata": {},
     "outputs": [
      {
       "output_type": "stream",
       "stream": "stdout",
       "text": [
        "0.8\n",
        "2.9\n",
        "2.13965517241\n",
        "2.00455764261\n",
        "2.00000518122\n",
        "2.00000000001\n",
        "2.0\n"
       ]
      }
     ],
     "prompt_number": 10
    },
    {
     "cell_type": "code",
     "collapsed": false,
     "input": [
      "square_root(50)"
     ],
     "language": "python",
     "metadata": {},
     "outputs": [
      {
       "output_type": "stream",
       "stream": "stdout",
       "text": [
        "10.0\n",
        "7.5\n",
        "7.08333333333\n",
        "7.07107843137\n",
        "7.07106781187\n",
        "7.07106781187\n"
       ]
      }
     ],
     "prompt_number": 11
    },
    {
     "cell_type": "code",
     "collapsed": false,
     "input": [
      "square_root(1000)"
     ],
     "language": "python",
     "metadata": {},
     "outputs": [
      {
       "output_type": "stream",
       "stream": "stdout",
       "text": [
        "200.0\n",
        "102.5\n",
        "56.1280487805\n",
        "36.9722264543\n",
        "32.0097780954\n",
        "31.6251160455\n",
        "31.6227766882\n",
        "31.6227766017\n"
       ]
      }
     ],
     "prompt_number": 12
    },
    {
     "cell_type": "markdown",
     "metadata": {},
     "source": [
      "Exercise 3  \n",
      "\n",
      "To test the square root algorithm in this chapter, you could compare it with math.sqrt. Write a function named test_square_root that prints a table like this:\n",
      "\n",
      "1.0 1.0           1.0           0.0\n",
      "2.0 1.41421356237 1.41421356237 2.22044604925e-16\n",
      "3.0 1.73205080757 1.73205080757 0.0\n",
      "4.0 2.0           2.0           0.0\n",
      "5.0 2.2360679775  2.2360679775  0.0\n",
      "6.0 2.44948974278 2.44948974278 0.0\n",
      "7.0 2.64575131106 2.64575131106 0.0\n",
      "8.0 2.82842712475 2.82842712475 4.4408920985e-16\n",
      "9.0 3.0           3.0           0.0\n",
      "\n",
      "The first column is a number, a; the second column is the square root of a computed with the function from Section 7.5; the third column is the square root computed by math.sqrt; the fourth column is the absolute value of the difference between the two estimates. "
     ]
    },
    {
     "cell_type": "code",
     "collapsed": false,
     "input": [
      "import math"
     ],
     "language": "python",
     "metadata": {},
     "outputs": [],
     "prompt_number": 13
    },
    {
     "cell_type": "code",
     "collapsed": false,
     "input": [
      "def square_root(a):\n",
      "    x=a/5.\n",
      "    while True:\n",
      "        y = (x + a/x) / 2\n",
      "        if y == x:\n",
      "            break\n",
      "        x=y\n",
      "    return x"
     ],
     "language": "python",
     "metadata": {},
     "outputs": [],
     "prompt_number": 14
    },
    {
     "cell_type": "code",
     "collapsed": false,
     "input": [
      "square_root(4)"
     ],
     "language": "python",
     "metadata": {},
     "outputs": [
      {
       "metadata": {},
       "output_type": "pyout",
       "prompt_number": 15,
       "text": [
        "2.0"
       ]
      }
     ],
     "prompt_number": 15
    },
    {
     "cell_type": "code",
     "collapsed": false,
     "input": [
      "print x"
     ],
     "language": "python",
     "metadata": {},
     "outputs": [
      {
       "ename": "NameError",
       "evalue": "name 'x' is not defined",
       "output_type": "pyerr",
       "traceback": [
        "\u001b[0;31m---------------------------------------------------------------------------\u001b[0m\n\u001b[0;31mNameError\u001b[0m                                 Traceback (most recent call last)",
        "\u001b[0;32m<ipython-input-16-2d264e11d975>\u001b[0m in \u001b[0;36m<module>\u001b[0;34m()\u001b[0m\n\u001b[0;32m----> 1\u001b[0;31m \u001b[0;32mprint\u001b[0m \u001b[0mx\u001b[0m\u001b[0;34m\u001b[0m\u001b[0m\n\u001b[0m",
        "\u001b[0;31mNameError\u001b[0m: name 'x' is not defined"
       ]
      }
     ],
     "prompt_number": 16
    },
    {
     "cell_type": "code",
     "collapsed": false,
     "input": [
      "x=square_root(5)"
     ],
     "language": "python",
     "metadata": {},
     "outputs": [],
     "prompt_number": 17
    },
    {
     "cell_type": "code",
     "collapsed": false,
     "input": [
      "print x"
     ],
     "language": "python",
     "metadata": {},
     "outputs": [
      {
       "output_type": "stream",
       "stream": "stdout",
       "text": [
        "2.2360679775\n"
       ]
      }
     ],
     "prompt_number": 18
    },
    {
     "cell_type": "code",
     "collapsed": false,
     "input": [
      "def test_square_root(ntests):\n",
      "    def square_root(a):\n",
      "        x=a/5.\n",
      "        while True:\n",
      "            y = (x + a/x) / 2\n",
      "            if y == x:\n",
      "                break\n",
      "            x=y\n",
      "        return x\n",
      "    for i in range(1,ntests):\n",
      "        a=float(i)\n",
      "        x=square_root(a)\n",
      "        y=math.sqrt(a)\n",
      "        dif=abs(x-y)\n",
      "        print a,x,y,dif"
     ],
     "language": "python",
     "metadata": {},
     "outputs": [],
     "prompt_number": 21
    },
    {
     "cell_type": "code",
     "collapsed": false,
     "input": [
      "test_square_root(3)"
     ],
     "language": "python",
     "metadata": {},
     "outputs": [
      {
       "output_type": "stream",
       "stream": "stdout",
       "text": [
        "1.0 1.0 1.0 0.0\n",
        "2.0 1.41421356237 1.41421356237 2.22044604925e-16\n"
       ]
      }
     ],
     "prompt_number": 22
    },
    {
     "cell_type": "code",
     "collapsed": false,
     "input": [
      "def test_square_root(ntests):\n",
      "    def square_root(a):\n",
      "        x=a/5.\n",
      "        while True:\n",
      "            y = (x + a/x) / 2\n",
      "            if y == x:\n",
      "                break\n",
      "            x=y\n",
      "        return x\n",
      "    for i in range(0,ntests):\n",
      "        a=float(i)\n",
      "        x=square_root(a)\n",
      "        y=math.sqrt(a)\n",
      "        dif=abs(x-y)\n",
      "        print a,x,y,dif"
     ],
     "language": "python",
     "metadata": {},
     "outputs": [],
     "prompt_number": 23
    },
    {
     "cell_type": "code",
     "collapsed": false,
     "input": [
      "test_square_root(3)"
     ],
     "language": "python",
     "metadata": {},
     "outputs": [
      {
       "ename": "ZeroDivisionError",
       "evalue": "float division by zero",
       "output_type": "pyerr",
       "traceback": [
        "\u001b[0;31m---------------------------------------------------------------------------\u001b[0m\n\u001b[0;31mZeroDivisionError\u001b[0m                         Traceback (most recent call last)",
        "\u001b[0;32m<ipython-input-24-688b293a0808>\u001b[0m in \u001b[0;36m<module>\u001b[0;34m()\u001b[0m\n\u001b[0;32m----> 1\u001b[0;31m \u001b[0mtest_square_root\u001b[0m\u001b[0;34m(\u001b[0m\u001b[0;36m3\u001b[0m\u001b[0;34m)\u001b[0m\u001b[0;34m\u001b[0m\u001b[0m\n\u001b[0m",
        "\u001b[0;32m<ipython-input-23-f8db85d3d475>\u001b[0m in \u001b[0;36mtest_square_root\u001b[0;34m(ntests)\u001b[0m\n\u001b[1;32m     10\u001b[0m     \u001b[0;32mfor\u001b[0m \u001b[0mi\u001b[0m \u001b[0;32min\u001b[0m \u001b[0mrange\u001b[0m\u001b[0;34m(\u001b[0m\u001b[0;36m0\u001b[0m\u001b[0;34m,\u001b[0m\u001b[0mntests\u001b[0m\u001b[0;34m)\u001b[0m\u001b[0;34m:\u001b[0m\u001b[0;34m\u001b[0m\u001b[0m\n\u001b[1;32m     11\u001b[0m         \u001b[0ma\u001b[0m\u001b[0;34m=\u001b[0m\u001b[0mfloat\u001b[0m\u001b[0;34m(\u001b[0m\u001b[0mi\u001b[0m\u001b[0;34m)\u001b[0m\u001b[0;34m\u001b[0m\u001b[0m\n\u001b[0;32m---> 12\u001b[0;31m         \u001b[0mx\u001b[0m\u001b[0;34m=\u001b[0m\u001b[0msquare_root\u001b[0m\u001b[0;34m(\u001b[0m\u001b[0ma\u001b[0m\u001b[0;34m)\u001b[0m\u001b[0;34m\u001b[0m\u001b[0m\n\u001b[0m\u001b[1;32m     13\u001b[0m         \u001b[0my\u001b[0m\u001b[0;34m=\u001b[0m\u001b[0mmath\u001b[0m\u001b[0;34m.\u001b[0m\u001b[0msqrt\u001b[0m\u001b[0;34m(\u001b[0m\u001b[0ma\u001b[0m\u001b[0;34m)\u001b[0m\u001b[0;34m\u001b[0m\u001b[0m\n\u001b[1;32m     14\u001b[0m         \u001b[0mdif\u001b[0m\u001b[0;34m=\u001b[0m\u001b[0mabs\u001b[0m\u001b[0;34m(\u001b[0m\u001b[0mx\u001b[0m\u001b[0;34m-\u001b[0m\u001b[0my\u001b[0m\u001b[0;34m)\u001b[0m\u001b[0;34m\u001b[0m\u001b[0m\n",
        "\u001b[0;32m<ipython-input-23-f8db85d3d475>\u001b[0m in \u001b[0;36msquare_root\u001b[0;34m(a)\u001b[0m\n\u001b[1;32m      3\u001b[0m         \u001b[0mx\u001b[0m\u001b[0;34m=\u001b[0m\u001b[0ma\u001b[0m\u001b[0;34m/\u001b[0m\u001b[0;36m5.\u001b[0m\u001b[0;34m\u001b[0m\u001b[0m\n\u001b[1;32m      4\u001b[0m         \u001b[0;32mwhile\u001b[0m \u001b[0mTrue\u001b[0m\u001b[0;34m:\u001b[0m\u001b[0;34m\u001b[0m\u001b[0m\n\u001b[0;32m----> 5\u001b[0;31m             \u001b[0my\u001b[0m \u001b[0;34m=\u001b[0m \u001b[0;34m(\u001b[0m\u001b[0mx\u001b[0m \u001b[0;34m+\u001b[0m \u001b[0ma\u001b[0m\u001b[0;34m/\u001b[0m\u001b[0mx\u001b[0m\u001b[0;34m)\u001b[0m \u001b[0;34m/\u001b[0m \u001b[0;36m2\u001b[0m\u001b[0;34m\u001b[0m\u001b[0m\n\u001b[0m\u001b[1;32m      6\u001b[0m             \u001b[0;32mif\u001b[0m \u001b[0my\u001b[0m \u001b[0;34m==\u001b[0m \u001b[0mx\u001b[0m\u001b[0;34m:\u001b[0m\u001b[0;34m\u001b[0m\u001b[0m\n\u001b[1;32m      7\u001b[0m                 \u001b[0;32mbreak\u001b[0m\u001b[0;34m\u001b[0m\u001b[0m\n",
        "\u001b[0;31mZeroDivisionError\u001b[0m: float division by zero"
       ]
      }
     ],
     "prompt_number": 24
    },
    {
     "cell_type": "code",
     "collapsed": false,
     "input": [
      "def test_square_root(ntests):\n",
      "    def square_root(a):\n",
      "        x=a/5.\n",
      "        while True:\n",
      "            y = (x + a/x) / 2\n",
      "            if y == x:\n",
      "                break\n",
      "            x=y\n",
      "        return x\n",
      "    for i in range(1,ntests+1):\n",
      "        a=float(i)\n",
      "        x=square_root(a)\n",
      "        y=math.sqrt(a)\n",
      "        dif=abs(x-y)\n",
      "        print a,x,y,dif"
     ],
     "language": "python",
     "metadata": {},
     "outputs": [],
     "prompt_number": 25
    },
    {
     "cell_type": "code",
     "collapsed": false,
     "input": [
      "test_square_root(3)"
     ],
     "language": "python",
     "metadata": {},
     "outputs": [
      {
       "output_type": "stream",
       "stream": "stdout",
       "text": [
        "1.0 1.0 1.0 0.0\n",
        "2.0 1.41421356237 1.41421356237 2.22044604925e-16\n",
        "3.0 1.73205080757 1.73205080757 0.0\n"
       ]
      }
     ],
     "prompt_number": 26
    },
    {
     "cell_type": "code",
     "collapsed": false,
     "input": [
      "test_square_root(4)"
     ],
     "language": "python",
     "metadata": {},
     "outputs": [
      {
       "output_type": "stream",
       "stream": "stdout",
       "text": [
        "1.0 1.0 1.0 0.0\n",
        "2.0 1.41421356237 1.41421356237 2.22044604925e-16\n",
        "3.0 1.73205080757 1.73205080757 0.0\n",
        "4.0 2.0 2.0 0.0\n"
       ]
      }
     ],
     "prompt_number": 27
    },
    {
     "cell_type": "markdown",
     "metadata": {},
     "source": [
      "This is the expected result, except that the columns aren't nicely lined up."
     ]
    },
    {
     "cell_type": "code",
     "collapsed": false,
     "input": [
      "def test_square_root(ntests):\n",
      "    def square_root(a):\n",
      "        x=a/5.\n",
      "        while True:\n",
      "            y = (x + a/x) / 2\n",
      "            if y == x:\n",
      "                break\n",
      "            x=y\n",
      "        return x\n",
      "    for i in range(1,ntests+1):\n",
      "        a=float(i)\n",
      "        x=square_root(a)\n",
      "        y=math.sqrt(a)\n",
      "        dif=abs(x-y)\n",
      "        print '{0:0.5f} {1:0.5f} {2:0.5f} {3:0.5f}'.format(a,x,y,dif)"
     ],
     "language": "python",
     "metadata": {},
     "outputs": [],
     "prompt_number": 28
    },
    {
     "cell_type": "code",
     "collapsed": false,
     "input": [
      "test_square_root(4)"
     ],
     "language": "python",
     "metadata": {},
     "outputs": [
      {
       "output_type": "stream",
       "stream": "stdout",
       "text": [
        "1.00000 1.00000 1.00000 0.00000\n",
        "2.00000 1.41421 1.41421 0.00000\n",
        "3.00000 1.73205 1.73205 0.00000\n",
        "4.00000 2.00000 2.00000 0.00000\n"
       ]
      }
     ],
     "prompt_number": 29
    },
    {
     "cell_type": "markdown",
     "metadata": {},
     "source": [
      "Still doesn't match ThinkPython result."
     ]
    },
    {
     "cell_type": "code",
     "collapsed": false,
     "input": [
      "def test_square_root(ntests):\n",
      "    def square_root(a):\n",
      "        x=a/5.\n",
      "        while True:\n",
      "            y = (x + a/x) / 2\n",
      "            if y == x:\n",
      "                break\n",
      "            x=y\n",
      "        return x\n",
      "    for i in range(1,ntests+1):\n",
      "        a=float(i)\n",
      "        x=square_root(a)\n",
      "        y=math.sqrt(a)\n",
      "        dif=abs(x-y)\n",
      "        print '{0:0.1f} {1:0.11f} {2:0.11f} {3:0.11f}'.format(a,x,y,dif)"
     ],
     "language": "python",
     "metadata": {},
     "outputs": [],
     "prompt_number": 30
    },
    {
     "cell_type": "code",
     "collapsed": false,
     "input": [
      "test_square_root(4)"
     ],
     "language": "python",
     "metadata": {},
     "outputs": [
      {
       "output_type": "stream",
       "stream": "stdout",
       "text": [
        "1.0 1.00000000000 1.00000000000 0.00000000000\n",
        "2.0 1.41421356237 1.41421356237 0.00000000000\n",
        "3.0 1.73205080757 1.73205080757 0.00000000000\n",
        "4.0 2.00000000000 2.00000000000 0.00000000000\n"
       ]
      }
     ],
     "prompt_number": 31
    },
    {
     "cell_type": "code",
     "collapsed": false,
     "input": [
      "def test_square_root(ntests):\n",
      "    def square_root(a):\n",
      "        x=a/5.\n",
      "        while True:\n",
      "            y = (x + a/x) / 2\n",
      "            if y == x:\n",
      "                break\n",
      "            x=y\n",
      "        return x\n",
      "    for i in range(1,ntests+1):\n",
      "        a=float(i)\n",
      "        x=square_root(a)\n",
      "        y=math.sqrt(a)\n",
      "        dif=abs(x-y)\n",
      "        print '{0:0.1f} {1:0.11f} {2:0.11f} {3:0.11e}'.format(a,x,y,dif)"
     ],
     "language": "python",
     "metadata": {},
     "outputs": [],
     "prompt_number": 32
    },
    {
     "cell_type": "code",
     "collapsed": false,
     "input": [
      "test_square_root(4)"
     ],
     "language": "python",
     "metadata": {},
     "outputs": [
      {
       "output_type": "stream",
       "stream": "stdout",
       "text": [
        "1.0 1.00000000000 1.00000000000 0.00000000000e+00\n",
        "2.0 1.41421356237 1.41421356237 2.22044604925e-16\n",
        "3.0 1.73205080757 1.73205080757 0.00000000000e+00\n",
        "4.0 2.00000000000 2.00000000000 0.00000000000e+00\n"
       ]
      }
     ],
     "prompt_number": 33
    },
    {
     "cell_type": "code",
     "collapsed": false,
     "input": [
      "test_square_root(9)"
     ],
     "language": "python",
     "metadata": {},
     "outputs": [
      {
       "output_type": "stream",
       "stream": "stdout",
       "text": [
        "1.0 1.000000000000 1.000000000000 0.000000000000e+00\n",
        "2.0 1.414213562373 1.414213562373 2.220446049250e-16\n",
        "3.0 1.732050807569 1.732050807569 0.000000000000e+00\n",
        "4.0 2.000000000000 2.000000000000 0.000000000000e+00\n",
        "5.0 2.236067977500 2.236067977500 0.000000000000e+00\n",
        "6.0 2.449489742783 2.449489742783 0.000000000000e+00\n",
        "7.0 2.645751311065 2.645751311065 0.000000000000e+00\n",
        "8.0 2.828427124746 2.828427124746 4.440892098501e-16\n",
        "9.0 3.000000000000 3.000000000000 0.000000000000e+00\n"
       ]
      }
     ],
     "prompt_number": 37
    },
    {
     "cell_type": "markdown",
     "metadata": {},
     "source": [
      "That's close enough."
     ]
    }
   ],
   "metadata": {}
  }
 ]
}